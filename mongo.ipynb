{
 "cells": [
  {
   "cell_type": "code",
   "execution_count": 1,
   "id": "7ebea0ad",
   "metadata": {},
   "outputs": [
    {
     "data": {
      "text/plain": [
       "True"
      ]
     },
     "execution_count": 1,
     "metadata": {},
     "output_type": "execute_result"
    }
   ],
   "source": [
    "import os\n",
    "from ycutils import utils, database\n",
    "import dotenv; dotenv.load_dotenv()"
   ]
  },
  {
   "cell_type": "code",
   "execution_count": 2,
   "id": "d5a8aa79",
   "metadata": {},
   "outputs": [],
   "source": [
    "client = utils.make_mongo_client(\n",
    "    username=os.environ['username'],\n",
    "    password=os.environ['password'],\n",
    "    host=os.environ['host'],\n",
    "    authSource=os.environ['database']\n",
    ")\n",
    "db = client[os.environ['database']]"
   ]
  },
  {
   "cell_type": "code",
   "execution_count": 4,
   "id": "bca474bf",
   "metadata": {},
   "outputs": [
    {
     "data": {
      "text/plain": [
       "[{'_id': 1,\n",
       "  'config': {'hidden': 128,\n",
       "   'lr': 0.01,\n",
       "   'batch_size': 64,\n",
       "   'epochs': 30,\n",
       "   'seed': 9},\n",
       "  'experiment': {'name': 'test_exp',\n",
       "   'repositories': [{'url': ['git@github.com:Leonardo130709/logger.git'],\n",
       "     'commit': '0648a3473a980878771b626145af82b65458acad',\n",
       "     'dirty': True}],\n",
       "   'dependencies': ['torch',\n",
       "    'tensorboard',\n",
       "    'python-dotenv',\n",
       "    'dvc[all]',\n",
       "    'sacred',\n",
       "    'ruamel.YAML',\n",
       "    'git+https://github.com/Leonardo130709/ycutils.git']},\n",
       "  'info': {'metrics': [{'name': 'mse_loss',\n",
       "     'id': ObjectId('62b341820714e7a5328d83c5')}]},\n",
       "  'format': 'PseudoSacred-0.0.1',\n",
       "  'status': 'COMPLETED',\n",
       "  'result': None,\n",
       "  'resources': [],\n",
       "  'artifacts': [],\n",
       "  'captured_out': None,\n",
       "  'host': [],\n",
       "  's3': 's3://rqc-loglake/test_exp'}]"
      ]
     },
     "execution_count": 4,
     "metadata": {},
     "output_type": "execute_result"
    }
   ],
   "source": [
    "list(db.runs.find({}))"
   ]
  },
  {
   "cell_type": "code",
   "execution_count": 5,
   "id": "5a13822f",
   "metadata": {},
   "outputs": [
    {
     "name": "stdout",
     "output_type": "stream",
     "text": [
      "docker: Error response from daemon: Conflict. The container name \"/omniboard\" is already in use by container \"22a7edc47f8040cee7a8a1939b897c0dd4545e231d58bb386b6704b6e69db3b1\". You have to remove (or rename) that container to be able to reuse that name.\r\n",
      "See 'docker run --help'.\r\n"
     ]
    }
   ],
   "source": [
    "!docker run -it --rm -p 9000:9000 --name omniboard -v \\\n",
    "    /usr/local/share/ca-certificates/Yandex/YandexInternalRootCA.crt:/usr/omniboard/cert.crt \\\n",
    "    vivekratnavel/omniboard:latest --mu \\\n",
    "    \"mongodb://${username}:${password}@${host}:27018/logdb?ssl=true&sslCAFile=cert.crt\""
   ]
  }
 ],
 "metadata": {
  "kernelspec": {
   "display_name": "Python 3 (ipykernel)",
   "language": "python",
   "name": "python3"
  },
  "language_info": {
   "codemirror_mode": {
    "name": "ipython",
    "version": 3
   },
   "file_extension": ".py",
   "mimetype": "text/x-python",
   "name": "python",
   "nbconvert_exporter": "python",
   "pygments_lexer": "ipython3",
   "version": "3.9.12"
  }
 },
 "nbformat": 4,
 "nbformat_minor": 5
}
