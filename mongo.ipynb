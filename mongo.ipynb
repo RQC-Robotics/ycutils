{
 "cells": [
  {
   "cell_type": "code",
   "execution_count": 1,
   "id": "7ebea0ad",
   "metadata": {},
   "outputs": [
    {
     "data": {
      "text/plain": [
       "True"
      ]
     },
     "execution_count": 1,
     "metadata": {},
     "output_type": "execute_result"
    }
   ],
   "source": [
    "import os\n",
    "from ycutils import utils, database\n",
    "import dotenv; dotenv.load_dotenv()"
   ]
  },
  {
   "cell_type": "code",
   "execution_count": 2,
   "id": "05709c13",
   "metadata": {},
   "outputs": [],
   "source": [
    "db = utils.make_db(\n",
    "    username=os.environ['username'],\n",
    "    password=os.environ['password'],\n",
    "    host=os.environ['host'],\n",
    "    database='logdb'\n",
    ")"
   ]
  },
  {
   "cell_type": "code",
   "execution_count": 3,
   "id": "4ea42ca3",
   "metadata": {},
   "outputs": [],
   "source": [
    "loglake = db.loglake"
   ]
  },
  {
   "cell_type": "code",
   "execution_count": 4,
   "id": "b0b35db3",
   "metadata": {},
   "outputs": [
    {
     "name": "stdout",
     "output_type": "stream",
     "text": [
      "[{'_id': ObjectId('62abd5505be466e60838d148'),\n",
      "  'name': 'exp1',\n",
      "  'config': {'hidden': 32,\n",
      "             'lr': 0.01,\n",
      "             'batch_size': 64,\n",
      "             'epochs': 30,\n",
      "             'seed': 9},\n",
      "  'experiment': {'requriements': ['torch',\n",
      "                                  'tensorboard',\n",
      "                                  'dvc[all]',\n",
      "                                  'ruamel.YAML'],\n",
      "                 'metrics': {'rmse': 1.1619261503219604,\n",
      "                             'R^2': 0.9662055969238281}},\n",
      "  'git': {'remotes': ['git@github.com:Leonardo130709/logger.git'],\n",
      "          'commit': '54c1267bec31777458fc16646c5b30e6f120a514'},\n",
      "  's3': 's3://loglake/exp1'},\n",
      " {'_id': ObjectId('62abd55ee0368f5b882a7d2c'),\n",
      "  'name': 'exp2',\n",
      "  'config': {'hidden': 64,\n",
      "             'lr': 0.01,\n",
      "             'batch_size': 64,\n",
      "             'epochs': 30,\n",
      "             'seed': 9},\n",
      "  'experiment': {'requriements': ['torch',\n",
      "                                  'tensorboard',\n",
      "                                  'dvc[all]',\n",
      "                                  'ruamel.YAML'],\n",
      "                 'metrics': {'rmse': 1.0214444398880005,\n",
      "                             'R^2': 0.9702205061912537}},\n",
      "  'git': {'remotes': ['git@github.com:Leonardo130709/logger.git'],\n",
      "          'commit': '54c1267bec31777458fc16646c5b30e6f120a514'},\n",
      "  's3': 's3://loglake/exp2'},\n",
      " {'_id': ObjectId('62abd571201c0d61b8f4069f'),\n",
      "  'name': 'exp3',\n",
      "  'config': {'hidden': 128,\n",
      "             'lr': 0.01,\n",
      "             'batch_size': 64,\n",
      "             'epochs': 30,\n",
      "             'seed': 9},\n",
      "  'experiment': {'requriements': ['torch',\n",
      "                                  'tensorboard',\n",
      "                                  'dvc[all]',\n",
      "                                  'ruamel.YAML'],\n",
      "                 'metrics': {'rmse': 1.0542720556259155,\n",
      "                             'R^2': 0.9686265587806702}},\n",
      "  'git': {'remotes': ['git@github.com:Leonardo130709/logger.git'],\n",
      "          'commit': '54c1267bec31777458fc16646c5b30e6f120a514'},\n",
      "  's3': 's3://loglake/exp3'}]\n"
     ]
    }
   ],
   "source": [
    "from pprint import pp\n",
    "pp(list(loglake.find({})))"
   ]
  },
  {
   "cell_type": "code",
   "execution_count": 5,
   "id": "7bdae8b2",
   "metadata": {},
   "outputs": [
    {
     "data": {
      "text/plain": [
       "{'_id': ObjectId('62abd5505be466e60838d148'),\n",
       " 'name': 'exp1',\n",
       " 'config': {'hidden': 32,\n",
       "  'lr': 0.01,\n",
       "  'batch_size': 64,\n",
       "  'epochs': 30,\n",
       "  'seed': 9},\n",
       " 'experiment': {'requriements': ['torch',\n",
       "   'tensorboard',\n",
       "   'dvc[all]',\n",
       "   'ruamel.YAML'],\n",
       "  'metrics': {'rmse': 1.1619261503219604, 'R^2': 0.9662055969238281}},\n",
       " 'git': {'remotes': ['git@github.com:Leonardo130709/logger.git'],\n",
       "  'commit': '54c1267bec31777458fc16646c5b30e6f120a514'},\n",
       " 's3': 's3://loglake/exp1'}"
      ]
     },
     "execution_count": 5,
     "metadata": {},
     "output_type": "execute_result"
    }
   ],
   "source": [
    "next(loglake.find({}))"
   ]
  },
  {
   "cell_type": "code",
   "execution_count": 6,
   "id": "3a757a65",
   "metadata": {},
   "outputs": [
    {
     "data": {
      "text/plain": [
       "'s3://loglake/exp2/logdir,s3://loglake/exp3/logdir,s3://loglake/exp1/logdir'"
      ]
     },
     "execution_count": 6,
     "metadata": {},
     "output_type": "execute_result"
    }
   ],
   "source": [
    "cursor = loglake.find({'experiment.metrics.rmse' : {'$lt': 20}}).sort(\"experiment.metrics.rmse\")\n",
    "spec = ','.join((f\"{doc['s3']}/logdir\" for doc in cursor))\n",
    "spec"
   ]
  },
  {
   "cell_type": "code",
   "execution_count": 7,
   "id": "55fb5042",
   "metadata": {},
   "outputs": [
    {
     "data": {
      "text/plain": [
       "<os._wrap_close at 0x7f80f84c72b0>"
      ]
     },
     "execution_count": 7,
     "metadata": {},
     "output_type": "execute_result"
    },
    {
     "name": "stderr",
     "output_type": "stream",
     "text": [
      "TensorFlow installation not found - running with reduced feature set.\n",
      "Serving TensorBoard on localhost; to expose to the network, use a proxy or pass --bind_all\n",
      "TensorBoard 2.9.1 at http://localhost:6006/ (Press CTRL+C to quit)\n"
     ]
    }
   ],
   "source": [
    "#sadly it won't do\n",
    "os.popen(f'tensorboard --logdir_spec s3://loglake/exp2/logdir')"
   ]
  },
  {
   "cell_type": "code",
   "execution_count": 2,
   "id": "564981f5",
   "metadata": {},
   "outputs": [],
   "source": [
    "import pymongo\n",
    "import csv\n",
    "from bson.son import SON"
   ]
  },
  {
   "cell_type": "code",
   "execution_count": 8,
   "id": "f2aafb45",
   "metadata": {},
   "outputs": [],
   "source": [
    "res = [{'x': 2, 'y': 'a'}, {'x': 3, 'y': 'b'}]"
   ]
  },
  {
   "cell_type": "code",
   "execution_count": 9,
   "id": "68d64a83",
   "metadata": {},
   "outputs": [],
   "source": [
    "with open('test.csv', 'w') as f:\n",
    "    writer = csv.DictWriter(f, res[0].keys())\n",
    "    writer.writeheader()\n",
    "    writer.writerows(res)"
   ]
  },
  {
   "cell_type": "code",
   "execution_count": 16,
   "id": "235c8e93",
   "metadata": {},
   "outputs": [],
   "source": [
    "def bsonify_csv(file_path):\n",
    "    rows = []\n",
    "    with open(file_path) as file:\n",
    "        reader = csv.DictReader(file)\n",
    "        for row in reader:\n",
    "            rows.append(SON(row))\n",
    "        return rows"
   ]
  },
  {
   "cell_type": "code",
   "execution_count": 17,
   "id": "06b4a97e",
   "metadata": {},
   "outputs": [
    {
     "data": {
      "text/plain": [
       "[SON([('x', '2'), ('y', 'a')]), SON([('x', '3'), ('y', 'b')])]"
      ]
     },
     "execution_count": 17,
     "metadata": {},
     "output_type": "execute_result"
    }
   ],
   "source": [
    "bsonify_csv('test.csv')"
   ]
  }
 ],
 "metadata": {
  "kernelspec": {
   "display_name": "Python 3 (ipykernel)",
   "language": "python",
   "name": "python3"
  },
  "language_info": {
   "codemirror_mode": {
    "name": "ipython",
    "version": 3
   },
   "file_extension": ".py",
   "mimetype": "text/x-python",
   "name": "python",
   "nbconvert_exporter": "python",
   "pygments_lexer": "ipython3",
   "version": "3.9.12"
  }
 },
 "nbformat": 4,
 "nbformat_minor": 5
}
