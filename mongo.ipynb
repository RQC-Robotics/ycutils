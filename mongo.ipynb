{
 "cells": [
  {
   "cell_type": "code",
   "execution_count": 2,
   "id": "7ebea0ad",
   "metadata": {},
   "outputs": [
    {
     "data": {
      "text/plain": [
       "True"
      ]
     },
     "execution_count": 2,
     "metadata": {},
     "output_type": "execute_result"
    }
   ],
   "source": [
    "import os\n",
    "from ycutils import utils, database\n",
    "import dotenv; dotenv.load_dotenv()"
   ]
  },
  {
   "cell_type": "code",
   "execution_count": 3,
   "id": "05709c13",
   "metadata": {},
   "outputs": [],
   "source": [
    "db = utils.make_db(\n",
    "    username=os.environ['username'],\n",
    "    password=os.environ['password'],\n",
    "    host=os.environ['host'],\n",
    "    database='logdb'\n",
    ")"
   ]
  },
  {
   "cell_type": "code",
   "execution_count": 4,
   "id": "4ea42ca3",
   "metadata": {},
   "outputs": [],
   "source": [
    "loglake = db.loglake"
   ]
  },
  {
   "cell_type": "code",
   "execution_count": 22,
   "id": "b0b35db3",
   "metadata": {},
   "outputs": [
    {
     "name": "stdout",
     "output_type": "stream",
     "text": [
      "[{'_id': ObjectId('62abcdfe08890c74e572a594'),\n",
      "  'name': 'exp1',\n",
      "  'config': {'hidden': 64,\n",
      "             'lr': 0.001,\n",
      "             'batch_size': 64,\n",
      "             'epochs': 30,\n",
      "             'seed': 9},\n",
      "  'experiment': {'requriements': ['torch',\n",
      "                                  'tensorboard',\n",
      "                                  'dvc[all]',\n",
      "                                  'ruamel.YAML'],\n",
      "                 'metrics': {'rmse': 5.359636306762695,\n",
      "                             'R^2': 0.843743622303009}},\n",
      "  'git': {'remotes': ['git@github.com:Leonardo130709/logger.git'],\n",
      "          'commit': '54c1267bec31777458fc16646c5b30e6f120a514'},\n",
      "  's3': 's3://loglake/exp1'},\n",
      " {'_id': ObjectId('62abceaf1119093c39fdc83d'),\n",
      "  'name': 'exp2',\n",
      "  'config': {'hidden': 32,\n",
      "             'lr': 0.001,\n",
      "             'batch_size': 64,\n",
      "             'epochs': 30,\n",
      "             'seed': 9},\n",
      "  'experiment': {'requriements': ['torch',\n",
      "                                  'tensorboard',\n",
      "                                  'dvc[all]',\n",
      "                                  'ruamel.YAML'],\n",
      "                 'metrics': {'rmse': 5.359636306762695,\n",
      "                             'R^2': 0.843743622303009}},\n",
      "  'git': {'remotes': ['git@github.com:Leonardo130709/logger.git'],\n",
      "          'commit': '54c1267bec31777458fc16646c5b30e6f120a514'},\n",
      "  's3': 's3://loglake/exp2'},\n",
      " {'_id': ObjectId('62abcf8c5732801d9deb9e01'),\n",
      "  'name': 'exp3',\n",
      "  'config': {'hidden': 32,\n",
      "             'lr': 0.01,\n",
      "             'batch_size': 64,\n",
      "             'epochs': 30,\n",
      "             'seed': 9},\n",
      "  'experiment': {'requriements': ['torch',\n",
      "                                  'tensorboard',\n",
      "                                  'dvc[all]',\n",
      "                                  'ruamel.YAML'],\n",
      "                 'metrics': {'rmse': 15.814899444580078,\n",
      "                             'R^2': 0.5400267839431763}},\n",
      "  'git': {'remotes': ['git@github.com:Leonardo130709/logger.git'],\n",
      "          'commit': '54c1267bec31777458fc16646c5b30e6f120a514'},\n",
      "  's3': 's3://loglake/exp3'}]\n"
     ]
    }
   ],
   "source": [
    "from pprint import pp\n",
    "pp(list(loglake.find({})))"
   ]
  },
  {
   "cell_type": "code",
   "execution_count": 23,
   "id": "d9dc0322",
   "metadata": {},
   "outputs": [],
   "source": [
    "cursor = loglake.find({'experiment.metrics.rmse' : {'$lt': 20}}).sort(\"experiment.metrics.rmse\")\n",
    "spec = ','.join((f\"{doc['s3']}/logdir\" for doc in cursor))\n",
    "spec"
   ]
  },
  {
   "cell_type": "code",
   "execution_count": 27,
   "id": "1c2f3b63",
   "metadata": {
    "collapsed": true
   },
   "outputs": [
    {
     "data": {
      "text/plain": [
       "<os._wrap_close at 0x7f113ef94be0>"
      ]
     },
     "execution_count": 27,
     "metadata": {},
     "output_type": "execute_result"
    },
    {
     "name": "stderr",
     "output_type": "stream",
     "text": [
      "TensorFlow installation not found - running with reduced feature set.\n",
      "Serving TensorBoard on localhost; to expose to the network, use a proxy or pass --bind_all\n",
      "TensorBoard 2.9.1 at http://localhost:6007/ (Press CTRL+C to quit)\n",
      "W0617 03:49:44.515021 139773036783360 plugin_event_multiplexer.py:154] Conflict for name .: old path s3://loglake/exp1/logdir, new path s3://loglake/exp2/logdir\n",
      "W0617 03:49:44.679417 139773036783360 plugin_event_multiplexer.py:154] Conflict for name .: old path s3://loglake/exp2/logdir, new path s3://loglake/exp3/logdir\n",
      "W0617 03:49:51.079448 139773036783360 plugin_event_multiplexer.py:154] Conflict for name .: old path s3://loglake/exp3/logdir, new path s3://loglake/exp1/logdir\n",
      "W0617 03:49:51.589715 139773036783360 plugin_event_multiplexer.py:154] Conflict for name .: old path s3://loglake/exp1/logdir, new path s3://loglake/exp2/logdir\n",
      "W0617 03:49:52.007889 139773036783360 plugin_event_multiplexer.py:154] Conflict for name .: old path s3://loglake/exp2/logdir, new path s3://loglake/exp3/logdir\n",
      "W0617 03:49:57.996730 139773036783360 plugin_event_multiplexer.py:154] Conflict for name .: old path s3://loglake/exp3/logdir, new path s3://loglake/exp1/logdir\n",
      "W0617 03:49:58.401643 139773036783360 plugin_event_multiplexer.py:154] Conflict for name .: old path s3://loglake/exp1/logdir, new path s3://loglake/exp2/logdir\n",
      "W0617 03:49:58.816747 139773036783360 plugin_event_multiplexer.py:154] Conflict for name .: old path s3://loglake/exp2/logdir, new path s3://loglake/exp3/logdir\n",
      "W0617 03:50:04.876970 139773036783360 plugin_event_multiplexer.py:154] Conflict for name .: old path s3://loglake/exp3/logdir, new path s3://loglake/exp1/logdir\n",
      "W0617 03:50:05.299444 139773036783360 plugin_event_multiplexer.py:154] Conflict for name .: old path s3://loglake/exp1/logdir, new path s3://loglake/exp2/logdir\n",
      "W0617 03:50:05.690566 139773036783360 plugin_event_multiplexer.py:154] Conflict for name .: old path s3://loglake/exp2/logdir, new path s3://loglake/exp3/logdir\n",
      "W0617 03:50:11.635020 139773036783360 plugin_event_multiplexer.py:154] Conflict for name .: old path s3://loglake/exp3/logdir, new path s3://loglake/exp1/logdir\n",
      "W0617 03:50:12.064659 139773036783360 plugin_event_multiplexer.py:154] Conflict for name .: old path s3://loglake/exp1/logdir, new path s3://loglake/exp2/logdir\n",
      "W0617 03:50:12.441746 139773036783360 plugin_event_multiplexer.py:154] Conflict for name .: old path s3://loglake/exp2/logdir, new path s3://loglake/exp3/logdir\n"
     ]
    }
   ],
   "source": [
    "#sadly it won't do\n",
    "os.popen(f'tensorboard --logdir_spec {spec}')"
   ]
  },
  {
   "cell_type": "code",
   "execution_count": null,
   "id": "198833a0",
   "metadata": {},
   "outputs": [],
   "source": []
  }
 ],
 "metadata": {
  "kernelspec": {
   "display_name": "Python 3 (ipykernel)",
   "language": "python",
   "name": "python3"
  },
  "language_info": {
   "codemirror_mode": {
    "name": "ipython",
    "version": 3
   },
   "file_extension": ".py",
   "mimetype": "text/x-python",
   "name": "python",
   "nbconvert_exporter": "python",
   "pygments_lexer": "ipython3",
   "version": "3.9.12"
  }
 },
 "nbformat": 4,
 "nbformat_minor": 5
}
